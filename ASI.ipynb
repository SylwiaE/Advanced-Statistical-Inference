{
 "cells": [
  {
   "cell_type": "code",
   "execution_count": 1,
   "metadata": {},
   "outputs": [],
   "source": [
    "import scipy.io\n",
    "from scipy import stats\n",
    "import numpy as np\n",
    "import matplotlib.pyplot as plt\n",
    "import pandas as pd\n",
    "from time import time\n",
    "from sklearn import model_selection, metrics\n",
    "from sklearn.metrics import mean_squared_error, confusion_matrix, f1_score, accuracy_score\n",
    "\n",
    "# import seaborn as sns\n",
    "import scipy.io as sio\n",
    "from scipy.stats import beta"
   ]
  },
  {
   "cell_type": "markdown",
   "metadata": {},
   "source": [
    "### 1. Download and import the Santander dataset. \n",
    "The labels of the test data are not publicly available, so create your own test set by randomly choosing half of the instances in the original training set. \n"
   ]
  },
  {
   "cell_type": "code",
   "execution_count": 2,
   "metadata": {},
   "outputs": [
    {
     "data": {
      "text/html": [
       "<div>\n",
       "<style scoped>\n",
       "    .dataframe tbody tr th:only-of-type {\n",
       "        vertical-align: middle;\n",
       "    }\n",
       "\n",
       "    .dataframe tbody tr th {\n",
       "        vertical-align: top;\n",
       "    }\n",
       "\n",
       "    .dataframe thead th {\n",
       "        text-align: right;\n",
       "    }\n",
       "</style>\n",
       "<table border=\"1\" class=\"dataframe\">\n",
       "  <thead>\n",
       "    <tr style=\"text-align: right;\">\n",
       "      <th></th>\n",
       "      <th>ID_code</th>\n",
       "      <th>target</th>\n",
       "      <th>var_0</th>\n",
       "      <th>var_1</th>\n",
       "      <th>var_2</th>\n",
       "      <th>var_3</th>\n",
       "      <th>var_4</th>\n",
       "      <th>var_5</th>\n",
       "      <th>var_6</th>\n",
       "      <th>var_7</th>\n",
       "      <th>...</th>\n",
       "      <th>var_190</th>\n",
       "      <th>var_191</th>\n",
       "      <th>var_192</th>\n",
       "      <th>var_193</th>\n",
       "      <th>var_194</th>\n",
       "      <th>var_195</th>\n",
       "      <th>var_196</th>\n",
       "      <th>var_197</th>\n",
       "      <th>var_198</th>\n",
       "      <th>var_199</th>\n",
       "    </tr>\n",
       "  </thead>\n",
       "  <tbody>\n",
       "    <tr>\n",
       "      <th>0</th>\n",
       "      <td>train_0</td>\n",
       "      <td>0</td>\n",
       "      <td>8.9255</td>\n",
       "      <td>-6.7863</td>\n",
       "      <td>11.9081</td>\n",
       "      <td>5.0930</td>\n",
       "      <td>11.4607</td>\n",
       "      <td>-9.2834</td>\n",
       "      <td>5.1187</td>\n",
       "      <td>18.6266</td>\n",
       "      <td>...</td>\n",
       "      <td>4.4354</td>\n",
       "      <td>3.9642</td>\n",
       "      <td>3.1364</td>\n",
       "      <td>1.6910</td>\n",
       "      <td>18.5227</td>\n",
       "      <td>-2.3978</td>\n",
       "      <td>7.8784</td>\n",
       "      <td>8.5635</td>\n",
       "      <td>12.7803</td>\n",
       "      <td>-1.0914</td>\n",
       "    </tr>\n",
       "    <tr>\n",
       "      <th>1</th>\n",
       "      <td>train_1</td>\n",
       "      <td>0</td>\n",
       "      <td>11.5006</td>\n",
       "      <td>-4.1473</td>\n",
       "      <td>13.8588</td>\n",
       "      <td>5.3890</td>\n",
       "      <td>12.3622</td>\n",
       "      <td>7.0433</td>\n",
       "      <td>5.6208</td>\n",
       "      <td>16.5338</td>\n",
       "      <td>...</td>\n",
       "      <td>7.6421</td>\n",
       "      <td>7.7214</td>\n",
       "      <td>2.5837</td>\n",
       "      <td>10.9516</td>\n",
       "      <td>15.4305</td>\n",
       "      <td>2.0339</td>\n",
       "      <td>8.1267</td>\n",
       "      <td>8.7889</td>\n",
       "      <td>18.3560</td>\n",
       "      <td>1.9518</td>\n",
       "    </tr>\n",
       "    <tr>\n",
       "      <th>2</th>\n",
       "      <td>train_2</td>\n",
       "      <td>0</td>\n",
       "      <td>8.6093</td>\n",
       "      <td>-2.7457</td>\n",
       "      <td>12.0805</td>\n",
       "      <td>7.8928</td>\n",
       "      <td>10.5825</td>\n",
       "      <td>-9.0837</td>\n",
       "      <td>6.9427</td>\n",
       "      <td>14.6155</td>\n",
       "      <td>...</td>\n",
       "      <td>2.9057</td>\n",
       "      <td>9.7905</td>\n",
       "      <td>1.6704</td>\n",
       "      <td>1.6858</td>\n",
       "      <td>21.6042</td>\n",
       "      <td>3.1417</td>\n",
       "      <td>-6.5213</td>\n",
       "      <td>8.2675</td>\n",
       "      <td>14.7222</td>\n",
       "      <td>0.3965</td>\n",
       "    </tr>\n",
       "  </tbody>\n",
       "</table>\n",
       "<p>3 rows × 202 columns</p>\n",
       "</div>"
      ],
      "text/plain": [
       "   ID_code  target    var_0   var_1    var_2   var_3    var_4   var_5   var_6  \\\n",
       "0  train_0       0   8.9255 -6.7863  11.9081  5.0930  11.4607 -9.2834  5.1187   \n",
       "1  train_1       0  11.5006 -4.1473  13.8588  5.3890  12.3622  7.0433  5.6208   \n",
       "2  train_2       0   8.6093 -2.7457  12.0805  7.8928  10.5825 -9.0837  6.9427   \n",
       "\n",
       "     var_7   ...     var_190  var_191  var_192  var_193  var_194  var_195  \\\n",
       "0  18.6266   ...      4.4354   3.9642   3.1364   1.6910  18.5227  -2.3978   \n",
       "1  16.5338   ...      7.6421   7.7214   2.5837  10.9516  15.4305   2.0339   \n",
       "2  14.6155   ...      2.9057   9.7905   1.6704   1.6858  21.6042   3.1417   \n",
       "\n",
       "   var_196  var_197  var_198  var_199  \n",
       "0   7.8784   8.5635  12.7803  -1.0914  \n",
       "1   8.1267   8.7889  18.3560   1.9518  \n",
       "2  -6.5213   8.2675  14.7222   0.3965  \n",
       "\n",
       "[3 rows x 202 columns]"
      ]
     },
     "metadata": {},
     "output_type": "display_data"
    }
   ],
   "source": [
    "# Data import\n",
    "data = pd.read_csv(\"train.csv\")\n",
    "\n",
    "# Displaying 3 first rows of data\n",
    "display(data[:3])"
   ]
  },
  {
   "cell_type": "code",
   "execution_count": 3,
   "metadata": {},
   "outputs": [],
   "source": [
    "# Function to check if we have missing values\n",
    "def printMissing(dataframe):\n",
    "    total = dataframe.isnull().sum().sort_values(ascending=False)\n",
    "    percent = (dataframe.isnull().sum()/dataframe.isnull().count()).sort_values(ascending=False)\n",
    "    missing_data = pd.concat([total, percent], axis=1, keys=['Total', 'Percent'])\n",
    "    display(missing_data[missing_data['Total']>0])\n",
    "    \n",
    "# printMissing(data)"
   ]
  },
  {
   "cell_type": "markdown",
   "metadata": {},
   "source": [
    "printMisisng function showed that 0.000009% of data are NA"
   ]
  },
  {
   "cell_type": "code",
   "execution_count": 4,
   "metadata": {},
   "outputs": [
    {
     "name": "stdout",
     "output_type": "stream",
     "text": [
      "Number of rows removed 1\n"
     ]
    }
   ],
   "source": [
    "# Remove the rows with NA values\n",
    "data_clean = data.dropna() \n",
    "print('Number of rows removed', (data.shape[0] - data_clean.shape[0]) )"
   ]
  },
  {
   "cell_type": "code",
   "execution_count": 5,
   "metadata": {},
   "outputs": [],
   "source": [
    "# Rescale the data (min-max normalization)\n",
    "def rescaled_X(X): \n",
    "    X_normed = (X -X.min(axis=0)) / (X.max(axis=0) - X.min(axis=0))    \n",
    "    return  X_normed "
   ]
  },
  {
   "cell_type": "code",
   "execution_count": 6,
   "metadata": {},
   "outputs": [],
   "source": [
    "# Change the dataframe to numpy array\n",
    "np_data = data_clean.values\n",
    "\n",
    "# Extract target and x from data\n",
    "y = np_data[:,[1]].copy()\n",
    "x = np_data[:,2:].copy()\n",
    "\n",
    "# Rescale data and add columns of 1 to X matrix\n",
    "x= rescaled_X(x)\n",
    "X = np.c_[ np.ones(len(x)),x].astype(float)\n"
   ]
  },
  {
   "cell_type": "code",
   "execution_count": 7,
   "metadata": {},
   "outputs": [],
   "source": [
    "# Split data to train and test sets\n",
    "X_train, X_test, y_train, y_test = model_selection.train_test_split(X, y, test_size = 0.5, random_state=7)"
   ]
  },
  {
   "cell_type": "code",
   "execution_count": null,
   "metadata": {},
   "outputs": [],
   "source": []
  },
  {
   "cell_type": "markdown",
   "metadata": {},
   "source": [
    "### 2.  Comment on the distribution of class labels and the dimensionality of the input and how these may affect the analysis"
   ]
  },
  {
   "cell_type": "code",
   "execution_count": 8,
   "metadata": {},
   "outputs": [
    {
     "name": "stdout",
     "output_type": "stream",
     "text": [
      "Shape of X: (109097, 201)\n",
      "Shape of y: (109097, 1)\n"
     ]
    }
   ],
   "source": [
    "# Shape of X matrix\n",
    "print('Shape of X:', X.shape)\n",
    "\n",
    "# Shape of y matrix\n",
    "print('Shape of y:',y.shape)"
   ]
  },
  {
   "cell_type": "markdown",
   "metadata": {},
   "source": [
    "X matrix has 109097 rows and 201 features (including the 1-column). Number of dimensions have an impact on the efficiency (speed) of the code."
   ]
  },
  {
   "cell_type": "code",
   "execution_count": 9,
   "metadata": {},
   "outputs": [
    {
     "data": {
      "text/plain": [
       "target\n",
       "0    98164\n",
       "1    10934\n",
       "Name: target, dtype: int64"
      ]
     },
     "metadata": {},
     "output_type": "display_data"
    }
   ],
   "source": [
    "# Distribution of class labels\n",
    "uniquetarget = data.groupby('target').target.count()\n",
    "display(uniquetarget)"
   ]
  },
  {
   "cell_type": "markdown",
   "metadata": {},
   "source": [
    "Target 0 class is almost 10 times more numerous that target 1 class. It means that our dataset is unbalanced. Dealing with unbalanced data is harder (as the final model will predict better on more numerous class). To check accuracy of prediction for unbalanced data it is important to choose correct metrics (like f1 score)."
   ]
  },
  {
   "cell_type": "markdown",
   "metadata": {},
   "source": [
    "### 3a. Implement Bayesian linear regression"
   ]
  },
  {
   "cell_type": "code",
   "execution_count": 10,
   "metadata": {},
   "outputs": [],
   "source": [
    "#Choose of covariance of prior density \n",
    "def get_S_matrix(X):\n",
    "    variableNumber= X.shape[1]\n",
    "    S = np.diag(np.diag(np.random.rand(variableNumber,variableNumber))) \n",
    "    return S.astype(float)"
   ]
  },
  {
   "cell_type": "markdown",
   "metadata": {},
   "source": [
    "Function to compute the matrix form of the least squares:\n",
    "\\begin{equation*}\n",
    "\\hat{w} = (\\mathbf{X}^T\\mathbf{X})^{-1} \\mathbf{X}^T t\n",
    "\\end{equation*}"
   ]
  },
  {
   "cell_type": "code",
   "execution_count": 11,
   "metadata": {},
   "outputs": [],
   "source": [
    "#Compute w_hat (likelihood)\n",
    "def compute_w_hat(X, y):   \n",
    "    Xt = np.transpose(X)\n",
    "    w_hat = np.linalg.inv(Xt.dot(X)).dot(Xt).dot(y.reshape((len(y), 1)))\n",
    "    return w_hat"
   ]
  },
  {
   "cell_type": "markdown",
   "metadata": {},
   "source": [
    "To compute $\\hat{\\sigma^2}$ we use:\n",
    "\n",
    "\\begin{equation}\n",
    "\\hat{\\sigma^2} = \\frac{1}{N}(\\mathbf{t}-\\mathbf{X}\\hat{\\mathbf{w}})^T (\\mathbf{t}-\\mathbf{X}\\hat{\\mathbf{w}})\n",
    "\\end{equation}"
   ]
  },
  {
   "cell_type": "code",
   "execution_count": 12,
   "metadata": {},
   "outputs": [],
   "source": [
    "def sigmasquare(w_hat, X, y):\n",
    "    return float((((y-X.dot(w_hat))).T.dot(y-X.dot(w_hat)))/y.size)"
   ]
  },
  {
   "cell_type": "markdown",
   "metadata": {},
   "source": [
    "\n"
   ]
  },
  {
   "cell_type": "markdown",
   "metadata": {},
   "source": [
    "Covariance matrix of posterior density:\n",
    "\\begin{equation}\n",
    "\\mathrm{SIGMA} = (\\frac{1}{\\sigma^2} \\mathbf{X}^T\\mathbf{X}+\\mathbf{S}^{-1})^{-1}\n",
    "\\end{equation}"
   ]
  },
  {
   "cell_type": "code",
   "execution_count": 13,
   "metadata": {},
   "outputs": [],
   "source": [
    "# Posterior variance of the weights:\n",
    "def covarianceMatrix(X, sigmasquare2, S):\n",
    "      return np.linalg.inv(X.T.dot(X)/(sigmasquare2)+np.linalg.inv(S))\n",
    "#     return (1/(sigmasquare2))*np.linalg.inv(X.T.dot(X)+np.linalg.inv(S))\n",
    "\n"
   ]
  },
  {
   "cell_type": "code",
   "execution_count": 14,
   "metadata": {},
   "outputs": [],
   "source": [
    "# Mean vector of posterior density:\n",
    "def mean(sigmasquare2, covarianceMatrix2, X, y):\n",
    "    mi =  (1/(sigmasquare2))*((covarianceMatrix2.dot(X.T)).dot(y))\n",
    "    return mi"
   ]
  },
  {
   "cell_type": "code",
   "execution_count": 15,
   "metadata": {},
   "outputs": [],
   "source": [
    "# Bayesian Linear Regression model estimation:\n",
    "def bayesian_linear_regression(X,y):\n",
    "    S = get_S_matrix(X)\n",
    "    w_hat = compute_w_hat(X, y)\n",
    "    sigmasquare_f = sigmasquare(w_hat, X, y)\n",
    "    covarianceMatrix_f = covarianceMatrix(X, sigmasquare_f, S)\n",
    "    mean_f = mean(sigmasquare_f, covarianceMatrix_f, X, y) \n",
    "    return sigmasquare_f, covarianceMatrix_f, mean_f    "
   ]
  },
  {
   "cell_type": "code",
   "execution_count": 16,
   "metadata": {},
   "outputs": [],
   "source": [
    "# Prediction function:\n",
    "def prediction_bayesian(X,y,X_new):\n",
    "    sigmasquare_f, covarianceMatrix_f, mean_f = bayesian_linear_regression(X,y)\n",
    "    mi = (X_new).dot(mean_f)\n",
    "    return mi"
   ]
  },
  {
   "cell_type": "code",
   "execution_count": 17,
   "metadata": {},
   "outputs": [
    {
     "data": {
      "text/plain": [
       "array([[0.2094066713135078],\n",
       "       [0.17997102997327036],\n",
       "       [-0.05310572700623639],\n",
       "       ...,\n",
       "       [0.14115180768915947],\n",
       "       [-0.16844805351874845],\n",
       "       [0.1549539270048053]], dtype=object)"
      ]
     },
     "execution_count": 17,
     "metadata": {},
     "output_type": "execute_result"
    }
   ],
   "source": [
    "# Getting predictions:\n",
    "mi  = prediction_bayesian(X_train,y_train,X_test)\n",
    "mi"
   ]
  },
  {
   "cell_type": "markdown",
   "metadata": {},
   "source": [
    "### 3b. Discuss how can you select the (hyper-)parameters for the Gaussian prior "
   ]
  },
  {
   "cell_type": "markdown",
   "metadata": {},
   "source": [
    "Cross-validation can be used to choose the Gaussian prior. Still prior effect will diminish as more data arrive. As we have many data choosing prior has not huge impact.\n"
   ]
  },
  {
   "cell_type": "markdown",
   "metadata": {},
   "source": [
    "### 3c Write code that calculates the N-th order polynomial transformation of the input data"
   ]
  },
  {
   "cell_type": "code",
   "execution_count": 18,
   "metadata": {},
   "outputs": [],
   "source": [
    "#Function to create k-order polynomial by transforming input data \n",
    "def k_orderPolynomial(X, k):\n",
    "    x=X.copy()\n",
    "\n",
    "    if k==1: \n",
    "        return x\n",
    "    else:\n",
    "        for i in range(2, k+1):\n",
    "            Xk = np.power(x[:,1:], i)\n",
    "            X = np.concatenate((X, Xk), axis=1)  \n",
    "    return X\n"
   ]
  },
  {
   "cell_type": "code",
   "execution_count": 19,
   "metadata": {},
   "outputs": [],
   "source": [
    "# Bayesian Linear Regression model estimation for k-order polynomial\n",
    "def bayesian_linear_regression_k_order(x,y,k):\n",
    "        X = k_orderPolynomial(x, k)\n",
    "        sigmasquare_f, covarianceMatrix_f, mean_f = bayesian_linear_regression(X,y)\n",
    "        return sigmasquare_f, covarianceMatrix_f, mean_f\n",
    "    \n",
    "# Prediction function for Bayesian Linear Regression model for k-order polynomial\n",
    "def Prediction_bayesian_k_order(X,y,X_new,k):\n",
    "        X_new_f = k_orderPolynomial(X_new, k)\n",
    "        sigmasquare_f, covarianceMatrix_f, mean_f = bayesian_linear_regression_k_order(X,y,k)\n",
    "        mi_k = (X_new_f).dot(mean_f)\n",
    "        return mi_k\n",
    "    "
   ]
  },
  {
   "cell_type": "markdown",
   "metadata": {},
   "source": [
    "### 3d Describe any additional pre-processing that you suggest for this data "
   ]
  },
  {
   "cell_type": "markdown",
   "metadata": {},
   "source": [
    "1. Removing mising data \n",
    "2. Extract y and X from data set\n",
    "3. Data normalization\n",
    "4. Add columns of 1 to X matrix\n",
    "All of the above is covered in 1st point"
   ]
  },
  {
   "cell_type": "markdown",
   "metadata": {},
   "source": [
    "### 3e. Treat class labels as continuous and apply regression to the training data. Also, calculate the posterior variance of the weights"
   ]
  },
  {
   "cell_type": "markdown",
   "metadata": {},
   "source": [
    " Question is misleading. Applying regression to the training data means estimation of parametres from bayesian_linear_regression_k_order(x,y,k) function. But I guess it was more question about the receiving prediction (for which we need to apply regression to the training data to receive estimation of w). I will perform prediction below. "
   ]
  },
  {
   "cell_type": "code",
   "execution_count": 20,
   "metadata": {},
   "outputs": [
    {
     "data": {
      "text/plain": [
       "array([[0.2087365833364876],\n",
       "       [0.1772521136469451],\n",
       "       [-0.051841875232297316],\n",
       "       ...,\n",
       "       [0.14048092682518692],\n",
       "       [-0.16839277908406075],\n",
       "       [0.15739909708409716]], dtype=object)"
      ]
     },
     "execution_count": 20,
     "metadata": {},
     "output_type": "execute_result"
    }
   ],
   "source": [
    "#Prediction for 1st order polynomial \n",
    "Predicted_y_1order = Prediction_bayesian_k_order(X_train,y_train,X_test,1)\n",
    "Predicted_y_1order"
   ]
  },
  {
   "cell_type": "markdown",
   "metadata": {},
   "source": [
    "For 1st  order polynomial we don't receive the same results as in 3a (1st order polynomial means linear regression) becouse every time we get different covariance of prior density"
   ]
  },
  {
   "cell_type": "code",
   "execution_count": 21,
   "metadata": {},
   "outputs": [
    {
     "data": {
      "text/plain": [
       "array([[ 2.94983857e-03, -2.80099162e-05, -2.22082351e-05, ...,\n",
       "        -2.87486992e-05, -2.62662268e-05, -2.66745929e-05],\n",
       "       [-2.80099162e-05,  5.70645505e-05,  1.72185838e-07, ...,\n",
       "        -6.62277507e-08,  4.14183103e-07, -1.44171135e-07],\n",
       "       [-2.22082351e-05,  1.72185838e-07,  4.89397139e-05, ...,\n",
       "         3.28908212e-07,  3.14164604e-07, -1.68385701e-07],\n",
       "       ...,\n",
       "       [-2.87486992e-05, -6.62277507e-08,  3.28908212e-07, ...,\n",
       "         5.79578960e-05, -5.62682195e-08, -1.97979520e-07],\n",
       "       [-2.62662268e-05,  4.14183103e-07,  3.14164604e-07, ...,\n",
       "        -5.62682195e-08,  5.85217262e-05,  1.31930283e-07],\n",
       "       [-2.66745929e-05, -1.44171135e-07, -1.68385701e-07, ...,\n",
       "        -1.97979520e-07,  1.31930283e-07,  5.47564693e-05]])"
      ]
     },
     "execution_count": 21,
     "metadata": {},
     "output_type": "execute_result"
    }
   ],
   "source": [
    "#Posterior variance of the weights for 1st order polynomial \n",
    "_ , covarianceMatrix_1order, _ = bayesian_linear_regression_k_order(X_train,y_train,1)\n",
    "covarianceMatrix_1order"
   ]
  },
  {
   "cell_type": "code",
   "execution_count": 22,
   "metadata": {},
   "outputs": [
    {
     "data": {
      "text/plain": [
       "array([[0.17437700758313146],\n",
       "       [0.26885602048836277],\n",
       "       [-0.09029195638468604],\n",
       "       ...,\n",
       "       [0.16231329108642364],\n",
       "       [-0.04746005237277864],\n",
       "       [0.11938344811004273]], dtype=object)"
      ]
     },
     "execution_count": 22,
     "metadata": {},
     "output_type": "execute_result"
    }
   ],
   "source": [
    "#Prediction for 2st order polynomial \n",
    "Predicted_y_2order = Prediction_bayesian_k_order(X_train,y_train,X_test,2)\n",
    "Predicted_y_2order"
   ]
  },
  {
   "cell_type": "code",
   "execution_count": 23,
   "metadata": {},
   "outputs": [
    {
     "data": {
      "text/plain": [
       "array([[ 1.82569702e-02, -2.94703884e-04, -2.93048287e-04, ...,\n",
       "         2.78676393e-04,  2.20982068e-04,  4.07370101e-04],\n",
       "       [-2.94703884e-04,  1.54525204e-03, -1.38588008e-05, ...,\n",
       "        -1.46685123e-06,  1.61005128e-06,  1.81602954e-06],\n",
       "       [-2.93048287e-04, -1.38588008e-05,  1.28492597e-03, ...,\n",
       "         1.07027263e-05, -5.70244320e-07,  4.34383191e-06],\n",
       "       ...,\n",
       "       [ 2.78676393e-04, -1.46685122e-06,  1.07027263e-05, ...,\n",
       "         1.48809072e-03,  1.89167144e-06,  1.74925462e-06],\n",
       "       [ 2.20982068e-04,  1.61005128e-06, -5.70244320e-07, ...,\n",
       "         1.89167144e-06,  1.37704023e-03, -6.94115216e-06],\n",
       "       [ 4.07370101e-04,  1.81602954e-06,  4.34383191e-06, ...,\n",
       "         1.74925462e-06, -6.94115216e-06,  1.59110090e-03]])"
      ]
     },
     "execution_count": 23,
     "metadata": {},
     "output_type": "execute_result"
    }
   ],
   "source": [
    "#Posterior variance of the weights for 2st order polynomial \n",
    "_ , covarianceMatrix_2order, _ = bayesian_linear_regression_k_order(X_train,y_train,2)\n",
    "covarianceMatrix_2order"
   ]
  },
  {
   "cell_type": "code",
   "execution_count": 24,
   "metadata": {},
   "outputs": [
    {
     "data": {
      "text/plain": [
       "array([[0.17501630299183274],\n",
       "       [0.3165529645547911],\n",
       "       [-0.1526101440688334],\n",
       "       ...,\n",
       "       [0.21551073942933116],\n",
       "       [-0.012974812098402103],\n",
       "       [0.10561315058727695]], dtype=object)"
      ]
     },
     "execution_count": 24,
     "metadata": {},
     "output_type": "execute_result"
    }
   ],
   "source": [
    "#Prediction for 6st order polynomial \n",
    "Predicted_y_6order = Prediction_bayesian_k_order(X_train,y_train,X_test,6)\n",
    "Predicted_y_6order"
   ]
  },
  {
   "cell_type": "code",
   "execution_count": null,
   "metadata": {},
   "outputs": [],
   "source": []
  },
  {
   "cell_type": "markdown",
   "metadata": {},
   "source": [
    "### 3f. Suggest a way to discretize predictions and display the confusion matrix on the test data and report accuracy."
   ]
  },
  {
   "cell_type": "markdown",
   "metadata": {},
   "source": [
    "For the rest of the point 3 exercise I will use 1-order polynomial model"
   ]
  },
  {
   "cell_type": "markdown",
   "metadata": {},
   "source": [
    "To correctly discretize predictions, it is important to choose good value of a threshold (above which prediction should be 1, and below should be 0). I was doing it manually by checking which values gives the best predictions. At the end of this section, I added a code to help to choose the best values of threshold. "
   ]
  },
  {
   "cell_type": "code",
   "execution_count": 25,
   "metadata": {},
   "outputs": [],
   "source": [
    "# Function to discretize prediction.\n",
    "threshold = 0.3\n",
    "def Discretize_predictions(y_pred):\n",
    "    Discretize_predictions =[]\n",
    "    for i in range(len(y_pred)):\n",
    "        if y_pred[i] > threshold:\n",
    "            Discretize_predictions.append(1)\n",
    "        else:\n",
    "            Discretize_predictions.append(0)\n",
    "    return Discretize_predictions\n",
    "\n"
   ]
  },
  {
   "cell_type": "code",
   "execution_count": 26,
   "metadata": {},
   "outputs": [],
   "source": [
    "# discretize prediction\n",
    "Discretize_y = Discretize_predictions(Predicted_y_1order)\n",
    "# change datatype\n",
    "y_pred = np.asarray(Discretize_y, dtype=int)\n",
    "y_test = y_test.astype(int) "
   ]
  },
  {
   "cell_type": "code",
   "execution_count": null,
   "metadata": {},
   "outputs": [],
   "source": []
  },
  {
   "cell_type": "markdown",
   "metadata": {},
   "source": [
    "\n"
   ]
  },
  {
   "cell_type": "markdown",
   "metadata": {},
   "source": [
    "### 3g (text) Discuss the performance, compare it against a classifier that outputs random class labels."
   ]
  },
  {
   "cell_type": "code",
   "execution_count": 27,
   "metadata": {},
   "outputs": [],
   "source": [
    "# Function to plot confusion_matrix\n",
    "def plot_confusion_matrix(y_true, y_pred, \n",
    "                          normalize=False,\n",
    "                          title=None,\n",
    "                          cmap=plt.cm.Blues):\n",
    "    \"\"\"\n",
    "    This function prints and plots the confusion matrix.\n",
    "    Normalization can be applied by setting `normalize=True`.\n",
    "    \"\"\"\n",
    "    if not title:\n",
    "        if normalize:\n",
    "            title = 'Normalized confusion matrix'\n",
    "        else:\n",
    "            title = 'Confusion matrix, without normalization'\n",
    "\n",
    "    # Compute confusion matrix\n",
    "    cm = confusion_matrix(y_true, y_pred)\n",
    "\n",
    "    if normalize:\n",
    "        cm = cm.astype('float') / cm.sum(axis=1)[:, np.newaxis]\n",
    "        print(\"Normalized confusion matrix\")\n",
    "    else:\n",
    "        print('Confusion matrix, without normalization')\n",
    "\n",
    "    print(cm)\n",
    "\n",
    "    fig, ax = plt.subplots()\n",
    "    im = ax.imshow(cm, interpolation='nearest', cmap=cmap)\n",
    "    ax.figure.colorbar(im, ax=ax)\n",
    "    # We want to show all ticks...\n",
    "    ax.set(xticks=np.arange(cm.shape[1]),\n",
    "           yticks=np.arange(cm.shape[0]),\n",
    "           title=title,\n",
    "           ylabel='True label',\n",
    "           xlabel='Predicted label')\n",
    "\n",
    "    # Rotate the tick labels and set their alignment.\n",
    "    plt.setp(ax.get_xticklabels(), rotation=45, ha=\"right\",\n",
    "             rotation_mode=\"anchor\")\n",
    "\n",
    "    # Loop over data dimensions and create text annotations.\n",
    "    fmt = '.2f' if normalize else 'd'\n",
    "    thresh = cm.max() / 2.\n",
    "    for i in range(cm.shape[0]):\n",
    "        for j in range(cm.shape[1]):\n",
    "            ax.text(j, i, format(cm[i, j], fmt),\n",
    "                    ha=\"center\", va=\"center\",\n",
    "                    color=\"white\" if cm[i, j] > thresh else \"black\")\n",
    "    fig.tight_layout()\n",
    "    return ax\n",
    "\n",
    "np.set_printoptions(precision=2)"
   ]
  },
  {
   "cell_type": "code",
   "execution_count": 28,
   "metadata": {},
   "outputs": [],
   "source": [
    "# Function to calculate accuracy\n",
    "def  accuracy(y_true, y_pred): \n",
    "    cm = confusion_matrix(y_true, y_pred)\n",
    "    Accuracy= (cm[0,0]+cm[1,1])/np.sum(cm) # It's the same as: accuracy_score(y_test, y_pred, normalize=True)\n",
    "    print('Accuracy:')\n",
    "    print(Accuracy)\n",
    "\n",
    "    f1_score = metrics.f1_score(y_true, y_pred, average='macro')\n",
    "    print('f1_score:')\n",
    "    print(f1_score)"
   ]
  },
  {
   "cell_type": "code",
   "execution_count": 29,
   "metadata": {},
   "outputs": [
    {
     "name": "stdout",
     "output_type": "stream",
     "text": [
      "Confusion matrix, without normalization\n",
      "[[47657  1385]\n",
      " [ 3523  1984]]\n",
      "Normalized confusion matrix\n",
      "[[0.97 0.03]\n",
      " [0.64 0.36]]\n"
     ]
    },
    {
     "data": {
      "image/png": "[encoded data removed]",
      "text/plain": [
       "<Figure size 432x288 with 2 Axes>"
      ]
     },
     "metadata": {},
     "output_type": "display_data"
    },
    {
     "data": {
      "image/png": "[encoded data removed]",
      "text/plain": [
       "<Figure size 432x288 with 2 Axes>"
      ]
     },
     "metadata": {},
     "output_type": "display_data"
    },
    {
     "name": "stdout",
     "output_type": "stream",
     "text": [
      "Accuracy:\n",
      "0.9100258483198592\n",
      "f1_score:\n",
      "0.6990384680844037\n"
     ]
    }
   ],
   "source": [
    "# Plot non-normalized confusion matrix\n",
    "plot_confusion_matrix(y_test, y_pred, title='Confusion matrix, without normalization')\n",
    "\n",
    "# Plot normalized confusion matrix\n",
    "plot_confusion_matrix(y_test, y_pred, normalize=True, title='Normalized confusion matrix')\n",
    "plt.show()\n",
    "\n",
    "# Accuracy\n",
    "Accuracy = accuracy(y_test, y_pred)"
   ]
  },
  {
   "cell_type": "markdown",
   "metadata": {},
   "source": [
    "As data are unbalanced, classifier predicts better the class 0 outputs (bigger class). It struggles to predict correctly results of class 1. Even if accuracy is high (91%), we need to look also on f1 score to compare models. F1 score is a metrics used for unbalanced data."
   ]
  },
  {
   "cell_type": "markdown",
   "metadata": {},
   "source": [
    "Compare results against a classifier that outputs random label:"
   ]
  },
  {
   "cell_type": "code",
   "execution_count": 30,
   "metadata": {},
   "outputs": [
    {
     "name": "stdout",
     "output_type": "stream",
     "text": [
      "Confusion matrix, without normalization\n",
      "[[24464 24578]\n",
      " [ 2760  2747]]\n",
      "Normalized confusion matrix\n",
      "[[0.5 0.5]\n",
      " [0.5 0.5]]\n"
     ]
    },
    {
     "data": {
      "image/png": "[encoded data removed]",
      "text/plain": [
       "<Figure size 432x288 with 2 Axes>"
      ]
     },
     "metadata": {},
     "output_type": "display_data"
    },
    {
     "data": {
      "image/png": "[encoded data removed]",
      "text/plain": [
       "<Figure size 432x288 with 2 Axes>"
      ]
     },
     "metadata": {},
     "output_type": "display_data"
    },
    {
     "name": "stdout",
     "output_type": "stream",
     "text": [
      "Accuracy:\n",
      "0.4988359089992484\n",
      "f1_score:\n",
      "0.4044404070402713\n"
     ]
    }
   ],
   "source": [
    "# Accuracy of random class labels\n",
    "y_random = np.random.randint(2, size=len(y_test))\n",
    "\n",
    "# Plot non-normalized confusion matrix\n",
    "plot_confusion_matrix(y_test, y_random, title='Confusion matrix, without normalization')\n",
    "\n",
    "# Plot normalized confusion matrix\n",
    "plot_confusion_matrix(y_test, y_random, normalize=True, title='Normalized confusion matrix')\n",
    "plt.show()\n",
    "\n",
    "Accuracy = accuracy(y_test, y_random)"
   ]
  },
  {
   "cell_type": "markdown",
   "metadata": {},
   "source": [
    "Results of Bayesian Linear Regression are better that random results. Accuracy for random class label is around 50%, which is very intuitive. However even if overall accuracy of linear model is better that random results, still Bayesian Linear Regression model  is worst in predicting class 1 (36% vs 50%).  "
   ]
  },
  {
   "cell_type": "code",
   "execution_count": null,
   "metadata": {},
   "outputs": [],
   "source": []
  },
  {
   "cell_type": "code",
   "execution_count": null,
   "metadata": {},
   "outputs": [],
   "source": []
  },
  {
   "cell_type": "code",
   "execution_count": 31,
   "metadata": {},
   "outputs": [
    {
     "name": "stderr",
     "output_type": "stream",
     "text": [
      "/mnt/workspace/.local/lib/python3.5/site-packages/sklearn/metrics/classification.py:1143: UndefinedMetricWarning: F-score is ill-defined and being set to 0.0 in labels with no predicted samples.\n",
      "  'precision', 'predicted', average, warn_for)\n"
     ]
    }
   ],
   "source": [
    "# Code to help to choose threshold:\n",
    "\n",
    "y_pred2_list = []  \n",
    "threshold_list = []\n",
    "Accuracy_list = []\n",
    "f1_score_list = []\n",
    "\n",
    "for i in np.arange(0.2, 1.0, 0.1):\n",
    "    threshold = i\n",
    "\n",
    "    Discretize_y = Discretize_predictions(Predicted_y_1order)\n",
    "    # change datatype\n",
    "    y_pred2 = np.asarray(Discretize_y, dtype=int)\n",
    "    y_pred2_list.append(y_pred2)\n",
    "    \n",
    "    cm2 = confusion_matrix(y_test, y_pred2)\n",
    "    Accuracy= (cm2[0,0]+cm2[1,1])/np.sum(cm2) # It's the same as: accuracy_score(y_test, y_pred, normalize=True)\n",
    "     \n",
    "    f1_score = metrics.f1_score(y_test, y_pred2, average='macro')\n",
    "    \n",
    "    threshold_list.append(i)\n",
    "    Accuracy_list.append(Accuracy)\n",
    "    f1_score_list.append(f1_score)\n",
    "    "
   ]
  },
  {
   "cell_type": "code",
   "execution_count": 32,
   "metadata": {},
   "outputs": [
    {
     "data": {
      "text/html": [
       "<div>\n",
       "<style scoped>\n",
       "    .dataframe tbody tr th:only-of-type {\n",
       "        vertical-align: middle;\n",
       "    }\n",
       "\n",
       "    .dataframe tbody tr th {\n",
       "        vertical-align: top;\n",
       "    }\n",
       "\n",
       "    .dataframe thead th {\n",
       "        text-align: right;\n",
       "    }\n",
       "</style>\n",
       "<table border=\"1\" class=\"dataframe\">\n",
       "  <thead>\n",
       "    <tr style=\"text-align: right;\">\n",
       "      <th></th>\n",
       "      <th>threshold</th>\n",
       "      <th>Accuracy</th>\n",
       "      <th>f1_score</th>\n",
       "    </tr>\n",
       "  </thead>\n",
       "  <tbody>\n",
       "    <tr>\n",
       "      <th>0</th>\n",
       "      <td>0.2</td>\n",
       "      <td>0.833856</td>\n",
       "      <td>0.676957</td>\n",
       "    </tr>\n",
       "    <tr>\n",
       "      <th>1</th>\n",
       "      <td>0.3</td>\n",
       "      <td>0.910026</td>\n",
       "      <td>0.699038</td>\n",
       "    </tr>\n",
       "    <tr>\n",
       "      <th>2</th>\n",
       "      <td>0.4</td>\n",
       "      <td>0.907404</td>\n",
       "      <td>0.573988</td>\n",
       "    </tr>\n",
       "    <tr>\n",
       "      <th>3</th>\n",
       "      <td>0.5</td>\n",
       "      <td>0.900951</td>\n",
       "      <td>0.494475</td>\n",
       "    </tr>\n",
       "    <tr>\n",
       "      <th>4</th>\n",
       "      <td>0.6</td>\n",
       "      <td>0.899302</td>\n",
       "      <td>0.476199</td>\n",
       "    </tr>\n",
       "    <tr>\n",
       "      <th>5</th>\n",
       "      <td>0.7</td>\n",
       "      <td>0.899045</td>\n",
       "      <td>0.473420</td>\n",
       "    </tr>\n",
       "    <tr>\n",
       "      <th>6</th>\n",
       "      <td>0.8</td>\n",
       "      <td>0.899045</td>\n",
       "      <td>0.473420</td>\n",
       "    </tr>\n",
       "    <tr>\n",
       "      <th>7</th>\n",
       "      <td>0.9</td>\n",
       "      <td>0.899045</td>\n",
       "      <td>0.473420</td>\n",
       "    </tr>\n",
       "  </tbody>\n",
       "</table>\n",
       "</div>"
      ],
      "text/plain": [
       "   threshold  Accuracy  f1_score\n",
       "0        0.2  0.833856  0.676957\n",
       "1        0.3  0.910026  0.699038\n",
       "2        0.4  0.907404  0.573988\n",
       "3        0.5  0.900951  0.494475\n",
       "4        0.6  0.899302  0.476199\n",
       "5        0.7  0.899045  0.473420\n",
       "6        0.8  0.899045  0.473420\n",
       "7        0.9  0.899045  0.473420"
      ]
     },
     "execution_count": 32,
     "metadata": {},
     "output_type": "execute_result"
    }
   ],
   "source": [
    "# ploting accuracy metrics for different thresholds\n",
    "threshold_results = pd.DataFrame(list(zip(threshold_list, Accuracy_list, f1_score_list )), \n",
    "               columns =['threshold', 'Accuracy', 'f1_score']) \n",
    "threshold_results "
   ]
  },
  {
   "cell_type": "markdown",
   "metadata": {},
   "source": [
    "From above table it's visible that the best result for accuracy and f1_score are for threshold around 0.3"
   ]
  },
  {
   "cell_type": "markdown",
   "metadata": {},
   "source": [
    "## Logistic Regression"
   ]
  },
  {
   "cell_type": "markdown",
   "metadata": {},
   "source": [
    "### 4a) (code) The goal is to implement a logistic regression classifier that optimizes for the Maximum a Posteriori (MAP) estimate; assume a Gaussian prior on the parameters.\n",
    "As a first step, write a function that calculates the gradient of the joint likelihood using below equation"
   ]
  },
  {
   "cell_type": "markdown",
   "metadata": {},
   "source": [
    " <img src= \"Eq1.PNG\" width=\"800\" height=\"600\" align=\"center\"/>\n"
   ]
  },
  {
   "cell_type": "code",
   "execution_count": 45,
   "metadata": {},
   "outputs": [],
   "source": [
    "# Gradient of the joint likelihood\n",
    "def gradient(w, X, y, sigma=1):\n",
    "    sum1 = 0\n",
    "    for i, xn in enumerate(X):\n",
    "#       Pn =  probability_y_equal_1\n",
    "        Pn =  1/(1+np.exp(-w.dot(xn))) \n",
    "        tn = y[i]\n",
    "        sum1 += (xn *(tn - Pn))/X.shape[0]\n",
    "    return -(w/sigma) + sum1\n"
   ]
  },
  {
   "cell_type": "markdown",
   "metadata": {},
   "source": [
    "### b) (code) Write a simple gradient descend algorithm that uses the gradients calculated by the function of previous question to converge to the MAP estimate. [10]\n"
   ]
  },
  {
   "cell_type": "code",
   "execution_count": 46,
   "metadata": {},
   "outputs": [],
   "source": [
    "def gradient_descent(X, y, sigma =1, learning_rate = 0.05, max_epochs = 100, stop_condition = 0.001):\n",
    "        \n",
    "    w = np.random.normal(0, 1, X.shape[1])\n",
    "\n",
    "    dg_mean = 10  # set up only to allow implementation of stop condition\n",
    "    dg_mean_list = []\n",
    "    for i in range(1,max_epochs):\n",
    "#       In order to reach optimum, first derivative should be close to zero. \n",
    "#       To check if algorithm works correctly I check if mean of all features of dg (gradient of the joint likelihood) is getting close to zero. \n",
    "#       The stop condition is implemented to allow algorithm to stop if it's close enough to optimum.\n",
    "        if abs(dg_mean) > stop_condition:\n",
    "            dg = gradient(w, X, y, sigma)\n",
    "            w = w + learning_rate * dg \n",
    "\n",
    "            dg_mean =  np.mean(dg)\n",
    "            dg_mean_list.append(dg_mean)\n",
    "        else:\n",
    "            print('Stop condition applied after', i, 'epochs')\n",
    "            break\n",
    "        \n",
    "#         print(i, dg_mean)\n",
    "        plt.figure(0)\n",
    "        plt.plot(dg_mean_list) \n",
    "        plt.xlabel(\"Iterations\")\n",
    "        plt.ylabel(\"Gradient of the joint likelihood\")\n",
    "        plt.title(\"Joint likelihood gradient vs iterations\")\n",
    "    return w\n",
    "    "
   ]
  },
  {
   "cell_type": "code",
   "execution_count": null,
   "metadata": {},
   "outputs": [],
   "source": []
  },
  {
   "cell_type": "code",
   "execution_count": 51,
   "metadata": {},
   "outputs": [],
   "source": [
    "# Function for Logistic regression predictions:\n",
    "def  prediction_logistic_regression(X, y, X_new):\n",
    "    w_new  = gradient_descent(X, y)\n",
    "    P =  1/(1+np.exp(-X_new.dot(w_new).astype(float))) \n",
    "    return w_new, P      "
   ]
  },
  {
   "cell_type": "code",
   "execution_count": 52,
   "metadata": {},
   "outputs": [
    {
     "name": "stdout",
     "output_type": "stream",
     "text": [
      "Stop condition applied after 8 epochs\n"
     ]
    },
    {
     "data": {
      "image/png": "[encoded data removed]",
      "text/plain": [
       "<Figure size 432x288 with 1 Axes>"
      ]
     },
     "metadata": {},
     "output_type": "display_data"
    }
   ],
   "source": [
    "# Create preditions and plot 'Joint likelihood gradient vs iterations' figure\n",
    "w_new, Prediction_logistic_regression = prediction_logistic_regression(X_train, y_train, X_test)"
   ]
  },
  {
   "cell_type": "markdown",
   "metadata": {},
   "source": [
    "On the above figure It's visible that gradient of the joint likelihood is moving toward 0. It means it we can suspect that algorithm works correctly."
   ]
  },
  {
   "cell_type": "code",
   "execution_count": 53,
   "metadata": {},
   "outputs": [
    {
     "name": "stdout",
     "output_type": "stream",
     "text": [
      "[1 0 0 ... 0 0 0]\n"
     ]
    }
   ],
   "source": [
    "# Discretize and print prediction\n",
    "# Discretize prediction\n",
    "Discretize_y2 = np.around(Prediction_logistic_regression, decimals=0)\n",
    "# Change datatype\n",
    "y_pred_LR = np.asarray(Discretize_y2, dtype=int)\n",
    "print(y_pred_LR)\n",
    "\n"
   ]
  },
  {
   "cell_type": "markdown",
   "metadata": {},
   "source": [
    "### c) (text) Comment on the convexity of the problem; do you need multiple restarts in order to obtain a solution sufficiently close to the global optimum? [5]\n"
   ]
  },
  {
   "cell_type": "markdown",
   "metadata": {},
   "source": [
    "According to book \"A First course in machine learning\":  \"One thing to notice from Hessian is that it will be negative definite for any set of xn and for any w. Therefore, there can be one optimum and it must be a maximum. Whatever value of w the Newton-Raphson procedure converges to must correspond to the highest value of the posterior density.\"\n",
    "I didn't need multiple restarts to obtain a solution. However the choose of learning rate is smportant. If it's to high, dg will not converge. "
   ]
  },
  {
   "cell_type": "code",
   "execution_count": null,
   "metadata": {},
   "outputs": [],
   "source": []
  },
  {
   "cell_type": "markdown",
   "metadata": {},
   "source": [
    "### d) (text) Report the confusion matrix and classification accuracy on the test data. Discuss logistic regression performance with respect to the performance of Bayesian linear regression [5]\n"
   ]
  },
  {
   "cell_type": "code",
   "execution_count": 54,
   "metadata": {},
   "outputs": [
    {
     "name": "stdout",
     "output_type": "stream",
     "text": [
      "Confusion matrix, without normalization\n",
      "[[46300  2742]\n",
      " [ 5194   313]]\n",
      "Normalized confusion matrix\n",
      "[[0.94 0.06]\n",
      " [0.94 0.06]]\n"
     ]
    },
    {
     "data": {
      "image/png": "[encoded data removed]",
      "text/plain": [
       "<Figure size 432x288 with 2 Axes>"
      ]
     },
     "metadata": {},
     "output_type": "display_data"
    },
    {
     "data": {
      "image/png": "[encoded data removed]",
      "text/plain": [
       "<Figure size 432x288 with 2 Axes>"
      ]
     },
     "metadata": {},
     "output_type": "display_data"
    },
    {
     "name": "stdout",
     "output_type": "stream",
     "text": [
      "Accuracy:\n",
      "0.854516123118664\n",
      "f1_score:\n",
      "0.4970884301210683\n"
     ]
    }
   ],
   "source": [
    "\n",
    "# Plot non-normalized confusion matrix\n",
    "plot_confusion_matrix(y_test, y_pred_LR, title='Confusion matrix, without normalization')\n",
    "\n",
    "# Plot normalized confusion matrix\n",
    "plot_confusion_matrix(y_test, y_pred_LR, normalize=True, title='Normalized confusion matrix')\n",
    "plt.show()\n",
    "\n",
    "# Accuracy\n",
    "Accuracy = accuracy(y_test, y_pred_LR)"
   ]
  },
  {
   "cell_type": "markdown",
   "metadata": {},
   "source": [
    "Accuracy and F1 score of linear regression prediction was better."
   ]
  },
  {
   "cell_type": "markdown",
   "metadata": {},
   "source": [
    "### e) (text) Laplace approximation is an efficient way to obtain an approximate posterior for logistic regression. Describe the steps of this approach. What is the  form of approximation obtained? [5] "
   ]
  },
  {
   "cell_type": "markdown",
   "metadata": {},
   "source": [
    "1. Estimate 'w' using the previous code of gradient descent\n",
    "2. Generating Gaussian to approximate g(w;X,t)\n",
    "The parameters of the Gaussian are \n",
    "\n",
    "\\begin{equation*}\n",
    "\\mu = \\hat{w} \n",
    "\\end{equation*}\n",
    "\\begin{equation}\n",
    "\\Sigma^{-1} = (\\frac{\\partial^{2}log(g(w;X,t))}{\\partial{w}\\partial{w^{T}}})\n",
    "\\end{equation}\n",
    "    "
   ]
  }
 ],
 "metadata": {
  "kernelspec": {
   "display_name": "Python 3",
   "language": "python",
   "name": "python3"
  },
  "language_info": {
   "codemirror_mode": {
    "name": "ipython",
    "version": 3
   },
   "file_extension": ".py",
   "mimetype": "text/x-python",
   "name": "python",
   "nbconvert_exporter": "python",
   "pygments_lexer": "ipython3",
   "version": "3.6.5"
  }
 },
 "nbformat": 4,
 "nbformat_minor": 2
}
